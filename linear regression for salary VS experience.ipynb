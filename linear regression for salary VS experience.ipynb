{
 "cells": [
  {
   "cell_type": "code",
   "execution_count": 1,
   "id": "c6878626-b28a-48ba-9963-b32d4d40b8ac",
   "metadata": {},
   "outputs": [],
   "source": [
    "import pandas as pd\n",
    "import numpy as np\n",
    "import matplotlib,plotly as plt\n",
    "from warnings import filterwarnings\n",
    "filterwarnings('ignore')\n",
    "import seaborn as sns\n",
    "import matplotlib.pyplot as plt\n",
    "\n",
    "# import various functions from scipy\n",
    "from scipy import stats\n",
    "from scipy.stats import shapiro\n",
    "\n",
    "from sklearn.model_selection import train_test_split\n",
    "from sklearn.linear_model import LinearRegression\n",
    "import matplotlib.pyplot as plt"
   ]
  },
  {
   "cell_type": "code",
   "execution_count": 2,
   "id": "bfd69d51-fc0d-49ae-b213-61fb6e034aed",
   "metadata": {},
   "outputs": [
    {
     "data": {
      "text/html": [
       "<div>\n",
       "<style scoped>\n",
       "    .dataframe tbody tr th:only-of-type {\n",
       "        vertical-align: middle;\n",
       "    }\n",
       "\n",
       "    .dataframe tbody tr th {\n",
       "        vertical-align: top;\n",
       "    }\n",
       "\n",
       "    .dataframe thead th {\n",
       "        text-align: right;\n",
       "    }\n",
       "</style>\n",
       "<table border=\"1\" class=\"dataframe\">\n",
       "  <thead>\n",
       "    <tr style=\"text-align: right;\">\n",
       "      <th></th>\n",
       "      <th>Age</th>\n",
       "      <th>Gender</th>\n",
       "      <th>Education Level</th>\n",
       "      <th>Job Title</th>\n",
       "      <th>Years of Experience</th>\n",
       "      <th>Salary</th>\n",
       "    </tr>\n",
       "  </thead>\n",
       "  <tbody>\n",
       "    <tr>\n",
       "      <th>0</th>\n",
       "      <td>32.0</td>\n",
       "      <td>Male</td>\n",
       "      <td>Bachelor's</td>\n",
       "      <td>Software Engineer</td>\n",
       "      <td>5.0</td>\n",
       "      <td>90000.0</td>\n",
       "    </tr>\n",
       "    <tr>\n",
       "      <th>1</th>\n",
       "      <td>28.0</td>\n",
       "      <td>Female</td>\n",
       "      <td>Master's</td>\n",
       "      <td>Data Analyst</td>\n",
       "      <td>3.0</td>\n",
       "      <td>65000.0</td>\n",
       "    </tr>\n",
       "    <tr>\n",
       "      <th>2</th>\n",
       "      <td>45.0</td>\n",
       "      <td>Male</td>\n",
       "      <td>PhD</td>\n",
       "      <td>Senior Manager</td>\n",
       "      <td>15.0</td>\n",
       "      <td>150000.0</td>\n",
       "    </tr>\n",
       "    <tr>\n",
       "      <th>3</th>\n",
       "      <td>36.0</td>\n",
       "      <td>Female</td>\n",
       "      <td>Bachelor's</td>\n",
       "      <td>Sales Associate</td>\n",
       "      <td>7.0</td>\n",
       "      <td>60000.0</td>\n",
       "    </tr>\n",
       "    <tr>\n",
       "      <th>4</th>\n",
       "      <td>52.0</td>\n",
       "      <td>Male</td>\n",
       "      <td>Master's</td>\n",
       "      <td>Director</td>\n",
       "      <td>20.0</td>\n",
       "      <td>200000.0</td>\n",
       "    </tr>\n",
       "    <tr>\n",
       "      <th>...</th>\n",
       "      <td>...</td>\n",
       "      <td>...</td>\n",
       "      <td>...</td>\n",
       "      <td>...</td>\n",
       "      <td>...</td>\n",
       "      <td>...</td>\n",
       "    </tr>\n",
       "    <tr>\n",
       "      <th>370</th>\n",
       "      <td>35.0</td>\n",
       "      <td>Female</td>\n",
       "      <td>Bachelor's</td>\n",
       "      <td>Senior Marketing Analyst</td>\n",
       "      <td>8.0</td>\n",
       "      <td>85000.0</td>\n",
       "    </tr>\n",
       "    <tr>\n",
       "      <th>371</th>\n",
       "      <td>43.0</td>\n",
       "      <td>Male</td>\n",
       "      <td>Master's</td>\n",
       "      <td>Director of Operations</td>\n",
       "      <td>19.0</td>\n",
       "      <td>170000.0</td>\n",
       "    </tr>\n",
       "    <tr>\n",
       "      <th>372</th>\n",
       "      <td>29.0</td>\n",
       "      <td>Female</td>\n",
       "      <td>Bachelor's</td>\n",
       "      <td>Junior Project Manager</td>\n",
       "      <td>2.0</td>\n",
       "      <td>40000.0</td>\n",
       "    </tr>\n",
       "    <tr>\n",
       "      <th>373</th>\n",
       "      <td>34.0</td>\n",
       "      <td>Male</td>\n",
       "      <td>Bachelor's</td>\n",
       "      <td>Senior Operations Coordinator</td>\n",
       "      <td>7.0</td>\n",
       "      <td>90000.0</td>\n",
       "    </tr>\n",
       "    <tr>\n",
       "      <th>374</th>\n",
       "      <td>44.0</td>\n",
       "      <td>Female</td>\n",
       "      <td>PhD</td>\n",
       "      <td>Senior Business Analyst</td>\n",
       "      <td>15.0</td>\n",
       "      <td>150000.0</td>\n",
       "    </tr>\n",
       "  </tbody>\n",
       "</table>\n",
       "<p>375 rows × 6 columns</p>\n",
       "</div>"
      ],
      "text/plain": [
       "      Age  Gender Education Level                      Job Title  \\\n",
       "0    32.0    Male      Bachelor's              Software Engineer   \n",
       "1    28.0  Female        Master's                   Data Analyst   \n",
       "2    45.0    Male             PhD                 Senior Manager   \n",
       "3    36.0  Female      Bachelor's                Sales Associate   \n",
       "4    52.0    Male        Master's                       Director   \n",
       "..    ...     ...             ...                            ...   \n",
       "370  35.0  Female      Bachelor's       Senior Marketing Analyst   \n",
       "371  43.0    Male        Master's         Director of Operations   \n",
       "372  29.0  Female      Bachelor's         Junior Project Manager   \n",
       "373  34.0    Male      Bachelor's  Senior Operations Coordinator   \n",
       "374  44.0  Female             PhD        Senior Business Analyst   \n",
       "\n",
       "     Years of Experience    Salary  \n",
       "0                    5.0   90000.0  \n",
       "1                    3.0   65000.0  \n",
       "2                   15.0  150000.0  \n",
       "3                    7.0   60000.0  \n",
       "4                   20.0  200000.0  \n",
       "..                   ...       ...  \n",
       "370                  8.0   85000.0  \n",
       "371                 19.0  170000.0  \n",
       "372                  2.0   40000.0  \n",
       "373                  7.0   90000.0  \n",
       "374                 15.0  150000.0  \n",
       "\n",
       "[375 rows x 6 columns]"
      ]
     },
     "execution_count": 2,
     "metadata": {},
     "output_type": "execute_result"
    }
   ],
   "source": [
    "df = pd.read_csv('SalaryData.csv')\n",
    "df"
   ]
  },
  {
   "cell_type": "code",
   "execution_count": 3,
   "id": "82ea600e-fbe5-4dfb-b624-d6eb9f795178",
   "metadata": {},
   "outputs": [
    {
     "data": {
      "text/html": [
       "<div>\n",
       "<style scoped>\n",
       "    .dataframe tbody tr th:only-of-type {\n",
       "        vertical-align: middle;\n",
       "    }\n",
       "\n",
       "    .dataframe tbody tr th {\n",
       "        vertical-align: top;\n",
       "    }\n",
       "\n",
       "    .dataframe thead th {\n",
       "        text-align: right;\n",
       "    }\n",
       "</style>\n",
       "<table border=\"1\" class=\"dataframe\">\n",
       "  <thead>\n",
       "    <tr style=\"text-align: right;\">\n",
       "      <th></th>\n",
       "      <th>Age</th>\n",
       "      <th>Years of Experience</th>\n",
       "      <th>Salary</th>\n",
       "    </tr>\n",
       "  </thead>\n",
       "  <tbody>\n",
       "    <tr>\n",
       "      <th>0</th>\n",
       "      <td>32.0</td>\n",
       "      <td>5.0</td>\n",
       "      <td>90000.0</td>\n",
       "    </tr>\n",
       "    <tr>\n",
       "      <th>1</th>\n",
       "      <td>28.0</td>\n",
       "      <td>3.0</td>\n",
       "      <td>65000.0</td>\n",
       "    </tr>\n",
       "    <tr>\n",
       "      <th>2</th>\n",
       "      <td>45.0</td>\n",
       "      <td>15.0</td>\n",
       "      <td>150000.0</td>\n",
       "    </tr>\n",
       "    <tr>\n",
       "      <th>3</th>\n",
       "      <td>36.0</td>\n",
       "      <td>7.0</td>\n",
       "      <td>60000.0</td>\n",
       "    </tr>\n",
       "    <tr>\n",
       "      <th>4</th>\n",
       "      <td>52.0</td>\n",
       "      <td>20.0</td>\n",
       "      <td>200000.0</td>\n",
       "    </tr>\n",
       "    <tr>\n",
       "      <th>...</th>\n",
       "      <td>...</td>\n",
       "      <td>...</td>\n",
       "      <td>...</td>\n",
       "    </tr>\n",
       "    <tr>\n",
       "      <th>370</th>\n",
       "      <td>35.0</td>\n",
       "      <td>8.0</td>\n",
       "      <td>85000.0</td>\n",
       "    </tr>\n",
       "    <tr>\n",
       "      <th>371</th>\n",
       "      <td>43.0</td>\n",
       "      <td>19.0</td>\n",
       "      <td>170000.0</td>\n",
       "    </tr>\n",
       "    <tr>\n",
       "      <th>372</th>\n",
       "      <td>29.0</td>\n",
       "      <td>2.0</td>\n",
       "      <td>40000.0</td>\n",
       "    </tr>\n",
       "    <tr>\n",
       "      <th>373</th>\n",
       "      <td>34.0</td>\n",
       "      <td>7.0</td>\n",
       "      <td>90000.0</td>\n",
       "    </tr>\n",
       "    <tr>\n",
       "      <th>374</th>\n",
       "      <td>44.0</td>\n",
       "      <td>15.0</td>\n",
       "      <td>150000.0</td>\n",
       "    </tr>\n",
       "  </tbody>\n",
       "</table>\n",
       "<p>375 rows × 3 columns</p>\n",
       "</div>"
      ],
      "text/plain": [
       "      Age  Years of Experience    Salary\n",
       "0    32.0                  5.0   90000.0\n",
       "1    28.0                  3.0   65000.0\n",
       "2    45.0                 15.0  150000.0\n",
       "3    36.0                  7.0   60000.0\n",
       "4    52.0                 20.0  200000.0\n",
       "..    ...                  ...       ...\n",
       "370  35.0                  8.0   85000.0\n",
       "371  43.0                 19.0  170000.0\n",
       "372  29.0                  2.0   40000.0\n",
       "373  34.0                  7.0   90000.0\n",
       "374  44.0                 15.0  150000.0\n",
       "\n",
       "[375 rows x 3 columns]"
      ]
     },
     "execution_count": 3,
     "metadata": {},
     "output_type": "execute_result"
    }
   ],
   "source": [
    "df_numeric = df.select_dtypes(include = ['number'])\n",
    "df_numeric"
   ]
  },
  {
   "cell_type": "code",
   "execution_count": 4,
   "id": "fd27cd4d-30e5-46fd-9928-8ac3f73d4139",
   "metadata": {},
   "outputs": [
    {
     "data": {
      "text/plain": [
       "(375, 3)"
      ]
     },
     "execution_count": 4,
     "metadata": {},
     "output_type": "execute_result"
    }
   ],
   "source": [
    "df_numeric.shape"
   ]
  },
  {
   "cell_type": "code",
   "execution_count": 5,
   "id": "c3bffc85-c50f-4203-95aa-58b55079f385",
   "metadata": {},
   "outputs": [
    {
     "data": {
      "text/plain": [
       "Age                    2\n",
       "Years of Experience    2\n",
       "Salary                 2\n",
       "dtype: int64"
      ]
     },
     "execution_count": 5,
     "metadata": {},
     "output_type": "execute_result"
    }
   ],
   "source": [
    "df_numeric.isnull().sum()"
   ]
  },
  {
   "cell_type": "code",
   "execution_count": 6,
   "id": "1a99d139-bd93-43e5-b491-ba4d7f433b78",
   "metadata": {},
   "outputs": [
    {
     "data": {
      "text/plain": [
       "Age                    0\n",
       "Years of Experience    0\n",
       "Salary                 0\n",
       "dtype: int64"
      ]
     },
     "execution_count": 6,
     "metadata": {},
     "output_type": "execute_result"
    }
   ],
   "source": [
    "df_numeric = df_numeric.dropna(axis = 0 , how = 'any')\n",
    "df_numeric.isnull().sum()"
   ]
  },
  {
   "cell_type": "code",
   "execution_count": 7,
   "id": "22936e38-6184-4bdc-a978-3798f183df67",
   "metadata": {},
   "outputs": [
    {
     "data": {
      "text/plain": [
       "(373, 3)"
      ]
     },
     "execution_count": 7,
     "metadata": {},
     "output_type": "execute_result"
    }
   ],
   "source": [
    "df_numeric.shape"
   ]
  },
  {
   "cell_type": "code",
   "execution_count": null,
   "id": "f4e9eda2-0b8d-4f42-92bd-aa9a48f9171e",
   "metadata": {},
   "outputs": [],
   "source": []
  },
  {
   "cell_type": "code",
   "execution_count": 8,
   "id": "9a12a8d7-d940-4d84-9eee-0840fcaaf942",
   "metadata": {},
   "outputs": [
    {
     "data": {
      "text/html": [
       "<div>\n",
       "<style scoped>\n",
       "    .dataframe tbody tr th:only-of-type {\n",
       "        vertical-align: middle;\n",
       "    }\n",
       "\n",
       "    .dataframe tbody tr th {\n",
       "        vertical-align: top;\n",
       "    }\n",
       "\n",
       "    .dataframe thead th {\n",
       "        text-align: right;\n",
       "    }\n",
       "</style>\n",
       "<table border=\"1\" class=\"dataframe\">\n",
       "  <thead>\n",
       "    <tr style=\"text-align: right;\">\n",
       "      <th></th>\n",
       "      <th>Age</th>\n",
       "      <th>Years of Experience</th>\n",
       "      <th>Salary</th>\n",
       "    </tr>\n",
       "  </thead>\n",
       "  <tbody>\n",
       "    <tr>\n",
       "      <th>0</th>\n",
       "      <td>-0.769398</td>\n",
       "      <td>-0.768276</td>\n",
       "      <td>-0.219559</td>\n",
       "    </tr>\n",
       "    <tr>\n",
       "      <th>1</th>\n",
       "      <td>-1.336003</td>\n",
       "      <td>-1.073702</td>\n",
       "      <td>-0.738498</td>\n",
       "    </tr>\n",
       "    <tr>\n",
       "      <th>2</th>\n",
       "      <td>1.072068</td>\n",
       "      <td>0.758859</td>\n",
       "      <td>1.025892</td>\n",
       "    </tr>\n",
       "    <tr>\n",
       "      <th>3</th>\n",
       "      <td>-0.202793</td>\n",
       "      <td>-0.462849</td>\n",
       "      <td>-0.842285</td>\n",
       "    </tr>\n",
       "    <tr>\n",
       "      <th>4</th>\n",
       "      <td>2.063627</td>\n",
       "      <td>1.522426</td>\n",
       "      <td>2.063768</td>\n",
       "    </tr>\n",
       "    <tr>\n",
       "      <th>...</th>\n",
       "      <td>...</td>\n",
       "      <td>...</td>\n",
       "      <td>...</td>\n",
       "    </tr>\n",
       "    <tr>\n",
       "      <th>368</th>\n",
       "      <td>-0.344444</td>\n",
       "      <td>-0.310135</td>\n",
       "      <td>-0.323347</td>\n",
       "    </tr>\n",
       "    <tr>\n",
       "      <th>369</th>\n",
       "      <td>0.788766</td>\n",
       "      <td>1.369713</td>\n",
       "      <td>1.441042</td>\n",
       "    </tr>\n",
       "    <tr>\n",
       "      <th>370</th>\n",
       "      <td>-1.194352</td>\n",
       "      <td>-1.226416</td>\n",
       "      <td>-1.257436</td>\n",
       "    </tr>\n",
       "    <tr>\n",
       "      <th>371</th>\n",
       "      <td>-0.486096</td>\n",
       "      <td>-0.462849</td>\n",
       "      <td>-0.219559</td>\n",
       "    </tr>\n",
       "    <tr>\n",
       "      <th>372</th>\n",
       "      <td>0.930417</td>\n",
       "      <td>0.758859</td>\n",
       "      <td>1.025892</td>\n",
       "    </tr>\n",
       "  </tbody>\n",
       "</table>\n",
       "<p>373 rows × 3 columns</p>\n",
       "</div>"
      ],
      "text/plain": [
       "          Age  Years of Experience    Salary\n",
       "0   -0.769398            -0.768276 -0.219559\n",
       "1   -1.336003            -1.073702 -0.738498\n",
       "2    1.072068             0.758859  1.025892\n",
       "3   -0.202793            -0.462849 -0.842285\n",
       "4    2.063627             1.522426  2.063768\n",
       "..        ...                  ...       ...\n",
       "368 -0.344444            -0.310135 -0.323347\n",
       "369  0.788766             1.369713  1.441042\n",
       "370 -1.194352            -1.226416 -1.257436\n",
       "371 -0.486096            -0.462849 -0.219559\n",
       "372  0.930417             0.758859  1.025892\n",
       "\n",
       "[373 rows x 3 columns]"
      ]
     },
     "execution_count": 8,
     "metadata": {},
     "output_type": "execute_result"
    }
   ],
   "source": [
    "from sklearn.preprocessing import StandardScaler\n",
    "\n",
    "standard_scaling = StandardScaler()\n",
    "\n",
    "Scaled_data = standard_scaling.fit_transform(df_numeric)\n",
    "Scaled_df = pd.DataFrame(Scaled_data , columns = df_numeric.columns)\n",
    "\n",
    "Scaled_df"
   ]
  },
  {
   "cell_type": "code",
   "execution_count": 9,
   "id": "006f6b53-26b1-47e9-835b-5105dd10794d",
   "metadata": {},
   "outputs": [],
   "source": [
    "x = Scaled_df['Years of Experience'].to_frame()\n",
    "y = Scaled_df['Salary'].to_frame()"
   ]
  },
  {
   "cell_type": "code",
   "execution_count": null,
   "id": "f7b854b6-d4bb-48c2-bb9c-f242717209c7",
   "metadata": {},
   "outputs": [],
   "source": []
  },
  {
   "cell_type": "code",
   "execution_count": null,
   "id": "146a6cf3-3c2d-4414-a838-3a98fe8b34cb",
   "metadata": {},
   "outputs": [],
   "source": []
  },
  {
   "cell_type": "code",
   "execution_count": 10,
   "id": "77336ae4-c9d3-4b79-9ed3-a467ddc82c3e",
   "metadata": {},
   "outputs": [],
   "source": [
    "# splitting the datas into training and testing data\n",
    "x_train, x_test, y_train, y_test = train_test_split(x,y,\n",
    "test_size=0.2, random_state = 42)"
   ]
  },
  {
   "cell_type": "code",
   "execution_count": 11,
   "id": "ec23854f-d903-477a-bca5-d91e79e1147d",
   "metadata": {},
   "outputs": [],
   "source": [
    "model=LinearRegression()\n",
    "model.fit(x_train, y_train)\n",
    "y_pred=model.predict(x_test)\n"
   ]
  },
  {
   "cell_type": "code",
   "execution_count": 12,
   "id": "302365ee-b549-4cfe-8b12-28a083601547",
   "metadata": {},
   "outputs": [
    {
     "name": "stdout",
     "output_type": "stream",
     "text": [
      "[[ 1.54058444]\n",
      " [-0.01723635]\n",
      " [ 0.83248408]\n",
      " [-0.58371664]\n",
      " [ 0.97410415]\n",
      " [ 1.11572422]\n",
      " [ 1.68220451]\n",
      " [-0.01723635]\n",
      " [-1.00857685]\n",
      " [-0.15885642]\n",
      " [ 0.40762386]\n",
      " [ 1.54058444]\n",
      " [-1.15019692]\n",
      " [-0.15885642]\n",
      " [ 0.54924394]\n",
      " [-1.00857685]\n",
      " [-0.72533671]\n",
      " [-1.22100696]\n",
      " [-0.44209657]\n",
      " [-0.30047649]\n",
      " [-0.01723635]\n",
      " [-0.15885642]\n",
      " [ 0.83248408]\n",
      " [-0.72533671]\n",
      " [-0.58371664]\n",
      " [-0.86695678]\n",
      " [ 1.11572422]\n",
      " [-1.15019692]\n",
      " [ 0.40762386]\n",
      " [ 1.25734429]\n",
      " [-1.00857685]\n",
      " [ 0.54924394]\n",
      " [-1.00857685]\n",
      " [ 0.69086401]\n",
      " [-0.01723635]\n",
      " [-1.36262703]\n",
      " [ 1.54058444]\n",
      " [-1.15019692]\n",
      " [ 1.11572422]\n",
      " [-0.86695678]\n",
      " [-1.15019692]\n",
      " [-0.15885642]\n",
      " [ 2.10706472]\n",
      " [ 1.25734429]\n",
      " [-1.15019692]\n",
      " [ 0.83248408]\n",
      " [ 0.12438372]\n",
      " [-1.15019692]\n",
      " [-1.15019692]\n",
      " [-1.15019692]\n",
      " [ 1.25734429]\n",
      " [-0.30047649]\n",
      " [ 0.40762386]\n",
      " [ 0.26600379]\n",
      " [-0.15885642]\n",
      " [ 0.26600379]\n",
      " [ 2.10706472]\n",
      " [-0.44209657]\n",
      " [ 1.54058444]\n",
      " [-0.58371664]\n",
      " [ 0.26600379]\n",
      " [ 0.69086401]\n",
      " [ 1.39896437]\n",
      " [-0.72533671]\n",
      " [-1.00857685]\n",
      " [-1.15019692]\n",
      " [-1.00857685]\n",
      " [-0.01723635]\n",
      " [-1.15019692]\n",
      " [-1.43343707]\n",
      " [-0.44209657]\n",
      " [ 0.12438372]\n",
      " [-0.86695678]\n",
      " [ 0.54924394]\n",
      " [-0.30047649]]\n",
      "       Salary\n",
      "327  1.648618\n",
      "33  -0.738498\n",
      "15   0.506954\n",
      "314 -0.427135\n",
      "57   0.818317\n",
      "..        ...\n",
      "94  -0.530922\n",
      "195 -0.219559\n",
      "311 -0.842285\n",
      "292  0.818317\n",
      "347  0.195591\n",
      "\n",
      "[75 rows x 1 columns]\n"
     ]
    }
   ],
   "source": [
    "print(y_pred)\n",
    "print(y_test)"
   ]
  },
  {
   "cell_type": "code",
   "execution_count": 13,
   "id": "0761f737-1f04-4ebd-abfd-d048319e527e",
   "metadata": {},
   "outputs": [
    {
     "data": {
      "image/png": "[encoded data removed]",
      "text/plain": [
       "<Figure size 640x480 with 1 Axes>"
      ]
     },
     "metadata": {},
     "output_type": "display_data"
    }
   ],
   "source": [
    "plt.scatter(x_train, y_train, color='b')\n",
    "plt.plot(x_train, model.predict(x_train), color='red')\n",
    "plt.title('SALARY VS EXPERIENCE (training set)')\n",
    "plt.xlabel('Experience in Years')\n",
    "plt.ylabel('Salary in Rupees')\n",
    "plt.show()\n"
   ]
  },
  {
   "cell_type": "code",
   "execution_count": 14,
   "id": "245608ef-1318-4cbf-ab27-14d428280f3a",
   "metadata": {
    "scrolled": true
   },
   "outputs": [
    {
     "data": {
      "image/png": "[encoded data removed]",
      "text/plain": [
       "<Figure size 640x480 with 1 Axes>"
      ]
     },
     "metadata": {},
     "output_type": "display_data"
    }
   ],
   "source": [
    "plt.scatter(x_test, y_test, color='red')\n",
    "plt.plot(x_test, model.predict(x_test), color='b')\n",
    "plt.title('SALARY VS EXPERIENCE (testing set)')\n",
    "plt.xlabel('Experience in Years')\n",
    "plt.ylabel('Salary in Rupees')\n",
    "plt.show()"
   ]
  },
  {
   "cell_type": "code",
   "execution_count": 19,
   "id": "74c471c9-f0c2-4717-9353-716fb293855a",
   "metadata": {},
   "outputs": [],
   "source": [
    "from sklearn.metrics import classification_report"
   ]
  },
  {
   "cell_type": "code",
   "execution_count": 18,
   "id": "63f550e8-99bc-4c65-a5f6-062187ded4a4",
   "metadata": {},
   "outputs": [
    {
     "ename": "NameError",
     "evalue": "name 'metrics' is not defined",
     "output_type": "error",
     "traceback": [
      "\u001b[1;31m---------------------------------------------------------------------------\u001b[0m",
      "\u001b[1;31mNameError\u001b[0m                                 Traceback (most recent call last)",
      "Cell \u001b[1;32mIn[18], line 1\u001b[0m\n\u001b[1;32m----> 1\u001b[0m conf_mat\u001b[38;5;241m=\u001b[39mmetrics\u001b[38;5;241m.\u001b[39mconfusion_matrix(y_test, prediction)\n\u001b[0;32m      2\u001b[0m \u001b[38;5;28mprint\u001b[39m(\u001b[38;5;124m'\u001b[39m\u001b[38;5;124mConfusion Matrix : \u001b[39m\u001b[38;5;124m'\u001b[39m, conf_mat)\n\u001b[0;32m      3\u001b[0m \u001b[38;5;28mprint\u001b[39m()\n",
      "\u001b[1;31mNameError\u001b[0m: name 'metrics' is not defined"
     ]
    }
   ],
   "source": [
    "conf_mat=metrics.confusion_matrix(y_test, prediction)\n",
    "print('Confusion Matrix : ', conf_mat)\n",
    "print()\n",
    "\n",
    "Accuracy_score=metrics.accuracy_score(y_test,prediction) \n",
    "print('Accuracy Score : ', Accuracy_score) \n",
    "print()\n",
    "\n",
    "print('Accuracy in Percentage : ', int(Accuracy_score*100),'%')"
   ]
  },
  {
   "cell_type": "code",
   "execution_count": null,
   "id": "1302cc5f-2527-4617-8ccd-501e3b5ebad3",
   "metadata": {},
   "outputs": [],
   "source": [
    "conf_mat=pd.crosstab(y_test, prediction, rownames=['Actual'],colnames=['Predicted'])  \n",
    "sns.heatmap(conf_mat, annot=True)\n",
    "plt.show()"
   ]
  },
  {
   "cell_type": "code",
   "execution_count": null,
   "id": "3d263fe3-7edc-4ff4-8075-c98a816e8a1f",
   "metadata": {},
   "outputs": [],
   "source": [
    "conf_mat"
   ]
  },
  {
   "cell_type": "code",
   "execution_count": null,
   "id": "0f3df662-7b54-4207-b5c3-95106bd4fb09",
   "metadata": {},
   "outputs": [],
   "source": []
  }
 ],
 "metadata": {
  "kernelspec": {
   "display_name": "Python 3 (ipykernel)",
   "language": "python",
   "name": "python3"
  },
  "language_info": {
   "codemirror_mode": {
    "name": "ipython",
    "version": 3
   },
   "file_extension": ".py",
   "mimetype": "text/x-python",
   "name": "python",
   "nbconvert_exporter": "python",
   "pygments_lexer": "ipython3",
   "version": "3.11.7"
  }
 },
 "nbformat": 4,
 "nbformat_minor": 5
}
